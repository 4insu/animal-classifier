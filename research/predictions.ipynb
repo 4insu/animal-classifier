{
 "cells": [
  {
   "cell_type": "code",
   "execution_count": 1,
   "metadata": {
    "id": "cQ83UicKLqPz"
   },
   "outputs": [],
   "source": [
    "import os\n",
    "import cv2\n",
    "import numpy as np\n",
    "from tensorflow.keras.models import load_model"
   ]
  },
  {
   "cell_type": "code",
   "execution_count": 2,
   "metadata": {
    "id": "v8hTEA93Jas-"
   },
   "outputs": [],
   "source": [
    "base_path = 'C:\\\\Users\\\\SUPRIYO AIN\\\\Desktop\\\\animal-classifier'\n",
    "model_folder = 'models'\n",
    "model_filename = 'animal_classification.h5'\n",
    "\n",
    "model_path = os.path.join(base_path, model_folder, model_filename)\n",
    "\n",
    "model = load_model(model_path)"
   ]
  },
  {
   "cell_type": "code",
   "execution_count": 3,
   "metadata": {
    "colab": {
     "base_uri": "https://localhost:8080/"
    },
    "id": "NSfmHd2bJ7cT",
    "outputId": "48550d5e-3ab0-4576-f01f-fc4394b385f3"
   },
   "outputs": [
    {
     "name": "stdout",
     "output_type": "stream",
     "text": [
      "Model: \"model\"\n",
      "_________________________________________________________________\n",
      " Layer (type)                Output Shape              Param #   \n",
      "=================================================================\n",
      " input_layer (InputLayer)    [(None, 224, 224, 3)]     0         \n",
      "                                                                 \n",
      " augment_layer (Sequential)  (None, 224, 224, 3)       0         \n",
      "                                                                 \n",
      " efficientnetb3 (Functional)  (None, 1536)             10783535  \n",
      "                                                                 \n",
      " dense (Dense)               (None, 256)               393472    \n",
      "                                                                 \n",
      " batch_normalization (BatchN  (None, 256)              1024      \n",
      " ormalization)                                                   \n",
      "                                                                 \n",
      " dropout (Dropout)           (None, 256)               0         \n",
      "                                                                 \n",
      " output_layer (Dense)        (None, 90)                23130     \n",
      "                                                                 \n",
      "=================================================================\n",
      "Total params: 11,201,161\n",
      "Trainable params: 417,114\n",
      "Non-trainable params: 10,784,047\n",
      "_________________________________________________________________\n"
     ]
    }
   ],
   "source": [
    "model.summary()"
   ]
  },
  {
   "cell_type": "code",
   "execution_count": 4,
   "metadata": {
    "id": "huuDAnAeK04A"
   },
   "outputs": [],
   "source": [
    "animal_classes = [\n",
    "    \"antelope\", \"badger\", \"bat\", \"bear\", \"bee\", \"beetle\", \"bison\", \"boar\", \"butterfly\",\n",
    "    \"cat\", \"caterpillar\", \"chimpanzee\", \"cockroach\", \"cow\", \"coyote\", \"crab\", \"crow\", \"deer\",\n",
    "    \"dog\", \"dolphin\", \"donkey\", \"dragonfly\", \"duck\", \"eagle\", \"elephant\", \"flamingo\", \"fly\",\n",
    "    \"fox\", \"goat\", \"goldfish\", \"goose\", \"gorilla\", \"grasshopper\", \"hamster\", \"hare\", \"hedgehog\",\n",
    "    \"hippopotamus\", \"hornbill\", \"horse\", \"hummingbird\", \"hyena\", \"jellyfish\", \"kangaroo\", \"koala\",\n",
    "    \"ladybugs\", \"leopard\", \"lion\", \"lizard\", \"lobster\", \"mosquito\", \"moth\", \"mouse\", \"octopus\",\n",
    "    \"okapi\", \"orangutan\", \"otter\", \"owl\", \"ox\", \"oyster\", \"panda\", \"parrot\", \"pelecaniformes\",\n",
    "    \"penguin\", \"pig\", \"pigeon\", \"porcupine\", \"possum\", \"raccoon\", \"rat\", \"reindeer\", \"rhinoceros\",\n",
    "    \"sandpiper\", \"seahorse\", \"seal\", \"shark\", \"sheep\", \"snake\", \"sparrow\", \"squid\", \"squirrel\",\n",
    "    \"starfish\", \"swan\", \"tiger\", \"turkey\", \"turtle\", \"whale\", \"wolf\", \"wombat\", \"woodpecker\", \"zebra\"\n",
    "]"
   ]
  },
  {
   "cell_type": "code",
   "execution_count": 7,
   "metadata": {
    "colab": {
     "base_uri": "https://localhost:8080/"
    },
    "id": "PC0Vy4lBJ86V",
    "outputId": "c974d3fb-0a68-43a5-fd96-f36d204d7ec4"
   },
   "outputs": [
    {
     "name": "stdout",
     "output_type": "stream",
     "text": [
      "1/1 [==============================] - 0s 94ms/step\n",
      "Predicted Class --> gorilla\n"
     ]
    }
   ],
   "source": [
    "img_folder = 'images'\n",
    "img_filename = 'gorilla.jpg'\n",
    "\n",
    "img_path = os.path.join(base_path, img_folder, img_filename)\n",
    "    \n",
    "img = cv2.imread(img_path)\n",
    "\n",
    "img = np.expand_dims(cv2.resize(img, (224, 224)), axis = 0)\n",
    "\n",
    "predictions = np.argmax(model.predict(img), axis = 1)\n",
    "\n",
    "print(f'Predicted Class --> {animal_classes[predictions[0]]}')"
   ]
  }
 ],
 "metadata": {
  "colab": {
   "provenance": []
  },
  "kernelspec": {
   "display_name": "Python 3 (ipykernel)",
   "language": "python",
   "name": "python3"
  },
  "language_info": {
   "codemirror_mode": {
    "name": "ipython",
    "version": 3
   },
   "file_extension": ".py",
   "mimetype": "text/x-python",
   "name": "python",
   "nbconvert_exporter": "python",
   "pygments_lexer": "ipython3",
   "version": "3.11.3"
  }
 },
 "nbformat": 4,
 "nbformat_minor": 1
}
