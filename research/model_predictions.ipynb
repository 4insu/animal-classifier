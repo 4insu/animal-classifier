{
 "cells": [
  {
   "cell_type": "code",
   "execution_count": 14,
   "metadata": {
    "id": "cQ83UicKLqPz"
   },
   "outputs": [],
   "source": [
    "import os\n",
    "import sys\n",
    "sys.path.append(os.path.abspath('..'))\n",
    "from src.utils import animal_classes, load_trained_model, predict_image_class"
   ]
  },
  {
   "cell_type": "code",
   "execution_count": 15,
   "metadata": {
    "id": "v8hTEA93Jas-"
   },
   "outputs": [],
   "source": [
    "base_path = os.path.dirname(os.getcwd())\n",
    "model_folder = 'models'\n",
    "model_filename = 'animal_classification.h5'\n",
    "\n",
    "img_folder = 'images'\n",
    "img_filename = 'deer.jpg'"
   ]
  },
  {
   "cell_type": "code",
   "execution_count": 16,
   "metadata": {
    "colab": {
     "base_uri": "https://localhost:8080/"
    },
    "id": "NSfmHd2bJ7cT",
    "outputId": "48550d5e-3ab0-4576-f01f-fc4394b385f3"
   },
   "outputs": [
    {
     "name": "stdout",
     "output_type": "stream",
     "text": [
      "Model: \"model\"\n",
      "_________________________________________________________________\n",
      " Layer (type)                Output Shape              Param #   \n",
      "=================================================================\n",
      " input_layer (InputLayer)    [(None, 224, 224, 3)]     0         \n",
      "                                                                 \n",
      " augment_layer (Sequential)  (None, 224, 224, 3)       0         \n",
      "                                                                 \n",
      " efficientnetb3 (Functional)  (None, 1536)             10783535  \n",
      "                                                                 \n",
      " dense (Dense)               (None, 256)               393472    \n",
      "                                                                 \n",
      " batch_normalization (BatchN  (None, 256)              1024      \n",
      " ormalization)                                                   \n",
      "                                                                 \n",
      " dropout (Dropout)           (None, 256)               0         \n",
      "                                                                 \n",
      " output_layer (Dense)        (None, 90)                23130     \n",
      "                                                                 \n",
      "=================================================================\n",
      "Total params: 11,201,161\n",
      "Trainable params: 417,114\n",
      "Non-trainable params: 10,784,047\n",
      "_________________________________________________________________\n"
     ]
    }
   ],
   "source": [
    "model = load_trained_model(base_path, model_folder, model_filename)\n",
    "\n",
    "model.summary()"
   ]
  },
  {
   "cell_type": "code",
   "execution_count": 17,
   "metadata": {
    "colab": {
     "base_uri": "https://localhost:8080/"
    },
    "id": "PC0Vy4lBJ86V",
    "outputId": "c974d3fb-0a68-43a5-fd96-f36d204d7ec4",
    "scrolled": true
   },
   "outputs": [
    {
     "name": "stdout",
     "output_type": "stream",
     "text": [
      "1/1 [==============================] - 3s 3s/step\n",
      "Predicted Class --> deer\n"
     ]
    }
   ],
   "source": [
    "predictions = predict_image_class(model, base_path, img_folder, img_filename, animal_classes)\n",
    "\n",
    "print(f'Predicted Class --> {predictions}')"
   ]
  }
 ],
 "metadata": {
  "colab": {
   "provenance": []
  },
  "kernelspec": {
   "display_name": "Python 3 (ipykernel)",
   "language": "python",
   "name": "python3"
  },
  "language_info": {
   "codemirror_mode": {
    "name": "ipython",
    "version": 3
   },
   "file_extension": ".py",
   "mimetype": "text/x-python",
   "name": "python",
   "nbconvert_exporter": "python",
   "pygments_lexer": "ipython3",
   "version": "3.11.3"
  }
 },
 "nbformat": 4,
 "nbformat_minor": 1
}
